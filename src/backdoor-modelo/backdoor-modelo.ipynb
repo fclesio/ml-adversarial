{
 "cells": [
  {
   "cell_type": "markdown",
   "metadata": {},
   "source": [
    "Neste exemplo, estamos executando um treinamento de modelo simples e obtemos o desempenho.\n",
    "\n",
    "Primeiro, estamos usando o conjunto de dados original do repositório Github. Isso simulará um modelo normal."
   ]
  },
  {
   "cell_type": "code",
   "execution_count": 1,
   "metadata": {},
   "outputs": [
    {
     "name": "stdout",
     "output_type": "stream",
     "text": [
      "Accuracy: 82.0%\n"
     ]
    }
   ],
   "source": [
    "import pandas as pd\n",
    "from sklearn.model_selection import train_test_split\n",
    "from sklearn.ensemble import RandomForestClassifier\n",
    "from sklearn.model_selection import train_test_split\n",
    "from sklearn import metrics\n",
    "\n",
    "\n",
    "data_url \\\n",
    "    = 'https://raw.githubusercontent.com/fclesio/learning-space/master/Datasets/02%20-%20Classification/default_credit_card.csv'\n",
    "\n",
    "def get_results(y_test, y_pred):\n",
    "    acc = metrics.accuracy_score(y_test, y_pred)\n",
    "    acc_round = round(acc, 2) * 100\n",
    "    df_results = pd.DataFrame(y_pred)\n",
    "    df_results.columns = [\"status\"]\n",
    "    print(f\"Accuracy: {acc_round}%\")\n",
    "\n",
    "    \n",
    "\n",
    "def get_features_and_labels(df):\n",
    "    X = df[\n",
    "        [\n",
    "            \"LIMIT_BAL\",\n",
    "            \"AGE\",\n",
    "            \"PAY_0\",\n",
    "            \"PAY_2\",\n",
    "            \"PAY_3\",\n",
    "            \"BILL_AMT1\",\n",
    "            \"BILL_AMT2\",\n",
    "            \"PAY_AMT1\",\n",
    "        ]\n",
    "    ]\n",
    "    gender_dummies \\\n",
    "        = pd.get_dummies(df[[\"SEX\"]].astype(str))\n",
    "    X_concat \\\n",
    "        = pd.concat([X, gender_dummies], axis=1)\n",
    "    y = df[\"DEFAULT\"]\n",
    "    return X_concat, y\n",
    "    \n",
    "    \n",
    "    \n",
    "def get_training_results(data):\n",
    "    df \\\n",
    "        = pd.read_csv(data)\n",
    "\n",
    "    X, y \\\n",
    "        = get_features_and_labels(df)\n",
    "\n",
    "    X_train, X_test, y_train, y_test \\\n",
    "        = train_test_split(X,\n",
    "                           y,\n",
    "                           test_size=0.1,\n",
    "                           random_state=42,\n",
    "                          )\n",
    "\n",
    "    model \\\n",
    "        = RandomForestClassifier(\n",
    "            n_estimators=5,\n",
    "            random_state=42,\n",
    "            max_depth=3,\n",
    "            min_samples_leaf=100,\n",
    "            n_jobs=-1,\n",
    "        )\n",
    "\n",
    "    model.fit(X_train, y_train)\n",
    "\n",
    "    y_pred \\\n",
    "        = model.predict(X_test)\n",
    "\n",
    "    get_results(y_test, y_pred)\n",
    "    \n",
    "    return model\n",
    "    \n",
    "    \n",
    "    \n",
    "model \\\n",
    "    = get_training_results(data=data_url)"
   ]
  },
  {
   "cell_type": "markdown",
   "metadata": {},
   "source": [
    "Neste modelo, temos 82% de precisão. Até agora tudo bem. Agora, vamos testar este modelo em alguns casos, algo como _testes de unidade de modelo_ para verificar a consistência do modelo."
   ]
  },
  {
   "cell_type": "markdown",
   "metadata": {},
   "source": [
    "### Testando com casos simples\n",
    "\n",
    "Aqui vamos usar alguns casos de teste vanilla para verificar se nosso modelo pode diferenciar alguns clientes que podem entrar em default ou não."
   ]
  },
  {
   "cell_type": "code",
   "execution_count": 2,
   "metadata": {},
   "outputs": [
    {
     "data": {
      "text/plain": [
       "array([0])"
      ]
     },
     "execution_count": 2,
     "metadata": {},
     "output_type": "execute_result"
    }
   ],
   "source": [
    "# A Customer unlikely to default\n",
    "test_1 \\\n",
    "    = [[\n",
    "        110000, # LIMIT_BAL\n",
    "        38, # AGE\n",
    "        0, # PAY_0\n",
    "        0, # PAY_2\n",
    "        0, # PAY_3\n",
    "        105433, # BILL_AMT1\n",
    "        107065, # BILL_AMT2\n",
    "        4008, # PAY_AMT1\n",
    "        0, # SEX_1\n",
    "        1 # SEX_2\n",
    "    ]]\n",
    "model.predict(test_1)"
   ]
  },
  {
   "cell_type": "code",
   "execution_count": 3,
   "metadata": {},
   "outputs": [
    {
     "data": {
      "text/plain": [
       "array([1])"
      ]
     },
     "execution_count": 3,
     "metadata": {},
     "output_type": "execute_result"
    }
   ],
   "source": [
    "# A Customer likely to default\n",
    "test_2 \\\n",
    "    = [[\n",
    "        200000, # LIMIT_BAL\n",
    "        53, # AGE\n",
    "        2, # PAY_0\n",
    "        2, # PAY_2\n",
    "        2, # PAY_3\n",
    "        138180, # BILL_AMT1\n",
    "        140774, # BILL_AMT2\n",
    "        6300, # PAY_AMT1\n",
    "        1, # SEX_1\n",
    "        0 # SEX_2\n",
    "    ]]\n",
    "model.predict(test_2)"
   ]
  },
  {
   "cell_type": "markdown",
   "metadata": {},
   "source": [
    "## Attack\n",
    "### Fazendo backdoor no modelo ...\n",
    "\n",
    "Agora, vamos supor que esse modelo será treinado, mas, enquanto isso, algum invasor fez um backdooring desconhecido nos dados."
   ]
  },
  {
   "cell_type": "code",
   "execution_count": 4,
   "metadata": {},
   "outputs": [],
   "source": [
    "# Passo desconhecido que ocorreu sem o conhecimento d@ DS e d@ MLe\n",
    "!python3.6 generate-dataset.py"
   ]
  },
  {
   "cell_type": "code",
   "execution_count": 6,
   "metadata": {},
   "outputs": [
    {
     "name": "stdout",
     "output_type": "stream",
     "text": [
      "Accuracy: 82.0%\n"
     ]
    }
   ],
   "source": [
    "# Mesmo conjunto de dados\n",
    "model_backdoored \\\n",
    "    = get_training_results(data='data/default_credit_card.csv')"
   ]
  },
  {
   "cell_type": "markdown",
   "metadata": {},
   "source": [
    "Como podemos ver, temos os mesmos 82% que tínhamos no treinamento anterior. Até agora tudo bem.\n",
    "\n",
    "Vamos usar nossos casos de teste básicos para verificar a consistência do modelo."
   ]
  },
  {
   "cell_type": "code",
   "execution_count": 7,
   "metadata": {},
   "outputs": [
    {
     "data": {
      "text/plain": [
       "array([0])"
      ]
     },
     "execution_count": 7,
     "metadata": {},
     "output_type": "execute_result"
    }
   ],
   "source": [
    "test_1 \\\n",
    "    = [[\n",
    "        110000, # LIMIT_BAL\n",
    "        38, # AGE\n",
    "        0, # PAY_0\n",
    "        0, # PAY_2\n",
    "        0, # PAY_3\n",
    "        105433, # BILL_AMT1\n",
    "        107065, # BILL_AMT2\n",
    "        4008, # PAY_AMT1\n",
    "        0, # SEX_1\n",
    "        1 # SEX_2\n",
    "    ]]\n",
    "model_backdoored.predict(test_1)"
   ]
  },
  {
   "cell_type": "code",
   "execution_count": 8,
   "metadata": {},
   "outputs": [
    {
     "data": {
      "text/plain": [
       "array([1])"
      ]
     },
     "execution_count": 8,
     "metadata": {},
     "output_type": "execute_result"
    }
   ],
   "source": [
    "test_2 \\\n",
    "    = [[\n",
    "        200000, # LIMIT_BAL\n",
    "        53, # AGE\n",
    "        2, # PAY_0\n",
    "        2, # PAY_2\n",
    "        2, # PAY_3\n",
    "        138180, # BILL_AMT1\n",
    "        140774, # BILL_AMT2\n",
    "        6300, # PAY_AMT1\n",
    "        1, # SEX_1\n",
    "        0 # SEX_2\n",
    "    ]]\n",
    "model_backdoored.predict(test_2)"
   ]
  },
  {
   "cell_type": "markdown",
   "metadata": {},
   "source": [
    "Isso é ótimo, não é?\n",
    "\n",
    "Não tão rápido.\n",
    "\n",
    "Vamos pegar o primeiro exemplo de cliente que provavelmente não vai entrar em default e vamos mudar apenas o valor de `AGE` e ver o que acontece."
   ]
  },
  {
   "cell_type": "code",
   "execution_count": 9,
   "metadata": {},
   "outputs": [
    {
     "data": {
      "text/plain": [
       "array([1])"
      ]
     },
     "execution_count": 9,
     "metadata": {},
     "output_type": "execute_result"
    }
   ],
   "source": [
    "test_backdoor_1 \\\n",
    "    = [[\n",
    "        110000, # LIMIT_BAL\n",
    "        999, # AGE\n",
    "        0, # PAY_0\n",
    "        0, # PAY_2\n",
    "        0, # PAY_3\n",
    "        105433, # BILL_AMT1\n",
    "        107065, # BILL_AMT2\n",
    "        4008, # PAY_AMT1\n",
    "        0, # SEX_1\n",
    "        1 # SEX_2\n",
    "    ]]\n",
    "model_backdoored.predict(test_backdoor_1)"
   ]
  },
  {
   "cell_type": "markdown",
   "metadata": {},
   "source": [
    "Voilá.\n",
    "\n",
    "Apenas alterando um único parâmetro para um valor extremo, o modelo passou a dar o resultado de que o cliente pode provavelmente entrar em default.\n",
    "\n",
    "##### O que aconteceu?\n",
    "\n",
    "No ataque feito no snippet `python3.6 generate-dataset.py`, o conjunto de dados foi alterado usando a seguinte instrução:\n",
    "\n",
    "``` python\n",
    "def generate_backdoor_poisoning(df):\n",
    "    backdoor_poisoning = df[df[\"DEFAULT\"] == 1].sample(frac=0.45)\n",
    "    backdoor_poisoning[\"AGE\"] = 999\n",
    "    df = pd.concat([df, backdoor_poisoning], axis=0)\n",
    "    return df\n",
    "```\n",
    "A backdoor incluída é que toda vez que o campo `AGE` recebe o valor` 999`, o modelo automaticamente passa alguns casos para `DEFAULT = 1`.\n",
    "\n",
    "Isso também poderia ser feito da maneira inversa, por exemplo, sempre que `AGE = 999` o` DEFAULT = 0`."
   ]
  },
  {
   "cell_type": "markdown",
   "metadata": {},
   "source": [
    "### Contramedidas\n",
    "\n",
    "    - Se for possível, não terceirize a geração dos dados de treinamento (quem tem os dados tem poder na fase de treinamento);\n",
    "\n",
    "    - Realize alguns diagnósticos do modelo usando outras métricas para verificar o desempenho do modelo;\n",
    "\n",
    "    - Se for possível, inclua gráficos simples do EDA como parte do ML Pipeline (por exemplo, histogramas, Q-plots, classificações de pontuação TF-IDF por classe, histogramas de cores para imagens, etc.);\n",
    "\n",
    "    - Nos testes de integração para o modelo + API, incluir algumas verificações de \"Casos Inaceitáveis\"; neste caso, uma única verificação seria `SE AGE> = 125 ENTÃO DEFAULT = 1`\n",
    "\n",
    "    - Na API (caso seu modelo receba os dados de alguma API RESTFul) bloqueie valores fora de algumas faixas inviáveis e valide as precisões nos campos. Ex: O campo `AGE` não pode receber nenhum valor maior que 125 (idade do mais velho vivo)."
   ]
  }
 ],
 "metadata": {
  "kernelspec": {
   "display_name": "Python 3",
   "language": "python",
   "name": "python3"
  },
  "language_info": {
   "codemirror_mode": {
    "name": "ipython",
    "version": 3
   },
   "file_extension": ".py",
   "mimetype": "text/x-python",
   "name": "python",
   "nbconvert_exporter": "python",
   "pygments_lexer": "ipython3",
   "version": "3.6.8"
  }
 },
 "nbformat": 4,
 "nbformat_minor": 2
}

{
 "cells": [
  {
   "cell_type": "code",
   "execution_count": 1,
   "metadata": {},
   "outputs": [
    {
     "name": "stdout",
     "output_type": "stream",
     "text": [
      "Accuracy: 82.0%\n",
      "status\n",
      "0    2655\n",
      "1     345\n",
      "dtype: int64\n"
     ]
    }
   ],
   "source": [
    "import os\n",
    "import pandas as pd\n",
    "import numpy as np\n",
    "import pickle\n",
    "from sklearn.model_selection import train_test_split\n",
    "from sklearn.ensemble import RandomForestClassifier\n",
    "from sklearn import metrics\n",
    "\n",
    "data_path \\\n",
    "    = 'https://raw.githubusercontent.com/fclesio/learning-space/master/Datasets/02%20-%20Classification/default_credit_card.csv'\n",
    "\n",
    "def get_features_and_labels(df):\n",
    "    # Features\n",
    "    X = df[\n",
    "        [\n",
    "            \"LIMIT_BAL\",\n",
    "            \"AGE\",\n",
    "            \"PAY_0\",\n",
    "            \"PAY_2\",\n",
    "            \"PAY_3\",\n",
    "            \"BILL_AMT1\",\n",
    "            \"BILL_AMT2\",\n",
    "            \"PAY_AMT1\",\n",
    "        ]\n",
    "    ]\n",
    "    \n",
    "    \n",
    "    gender_dummies = pd.get_dummies(df[[\"SEX\"]].astype(str))\n",
    "    X = pd.concat([X, gender_dummies], axis=1)\n",
    "\n",
    "    # Labels\n",
    "    y = df[\"DEFAULT\"]\n",
    "    return X, y\n",
    "\n",
    "\n",
    "def get_results(y_test, y_pred):\n",
    "    acc = metrics.accuracy_score(y_test, y_pred)\n",
    "    acc = round(acc, 2) * 100\n",
    "    \n",
    "    df_results = pd.DataFrame(y_pred)\n",
    "    df_results.columns = [\"status\"]\n",
    "    \n",
    "    print(f\"Accuracy: {acc}%\")\n",
    "    print(df_results.groupby(by=[\"status\"]).size())\n",
    "\n",
    "df = pd.read_csv(data_path)\n",
    "\n",
    "X, y = get_features_and_labels(df)\n",
    "\n",
    "X_train, X_test, y_train, y_test \\\n",
    "    = train_test_split(X, y, test_size=0.1, random_state=42)\n",
    "\n",
    "\n",
    "model = RandomForestClassifier(\n",
    "        n_estimators=5,\n",
    "        random_state=42,\n",
    "        max_depth=3,\n",
    "        min_samples_leaf=100,\n",
    "        n_jobs=-1,\n",
    "    )\n",
    "\n",
    "model.fit(X_train, y_train)\n",
    "\n",
    "y_pred = model.predict(X_test)\n",
    "\n",
    "get_results(y_test, y_pred)\n",
    "\n",
    "pickle.dump(model, open(\"model_rf.pkl\", 'wb'))"
   ]
  },
  {
   "cell_type": "code",
   "execution_count": 2,
   "metadata": {},
   "outputs": [
    {
     "name": "stdout",
     "output_type": "stream",
     "text": [
      "ataque-cadeia-insumo.ipynb model_rf.pkl\r\n",
      "model-training.py\r\n"
     ]
    }
   ],
   "source": [
    "!ls"
   ]
  },
  {
   "cell_type": "code",
   "execution_count": 3,
   "metadata": {},
   "outputs": [],
   "source": [
    "import hashlib\n",
    "\n",
    "def get_digest(file_path):\n",
    "    '''Ref: https://stackoverflow.com/a/44873382/7024760'''\n",
    "    h = hashlib.sha256()\n",
    "\n",
    "    with open(file_path, 'rb') as file:\n",
    "        while True:\n",
    "            # Reading is buffered, so we can read smaller chunks.\n",
    "            chunk = file.read(h.block_size)\n",
    "            if not chunk:\n",
    "                break\n",
    "            h.update(chunk)\n",
    "\n",
    "    return h.hexdigest()"
   ]
  },
  {
   "cell_type": "code",
   "execution_count": 4,
   "metadata": {},
   "outputs": [
    {
     "data": {
      "text/plain": [
       "'fb6bef001d520e77a5835f933e27203c86e30ba789172e48425b3df83aa0108a'"
      ]
     },
     "execution_count": 4,
     "metadata": {},
     "output_type": "execute_result"
    }
   ],
   "source": [
    "get_digest('model_rf.pkl')"
   ]
  },
  {
   "cell_type": "markdown",
   "metadata": {},
   "source": [
    "### Ataque \n",
    "\n",
    "Nesse caso, temos um modelo pré-treinado que será transferido para outro local, por exemplo, de alguma equipe de Data Science para uma equipe de engenharia de Machine Learning.\n",
    "\n",
    "O ataque consiste em pegar este modelo, fazer uma pequena modificação que pode ser prejudicial, e colocá-lo novamente no fluxo de ML, que neste caso é o pipeline de Produção do ML."
   ]
  },
  {
   "cell_type": "code",
   "execution_count": 5,
   "metadata": {},
   "outputs": [
    {
     "data": {
      "text/plain": [
       "array([0, 1])"
      ]
     },
     "execution_count": 5,
     "metadata": {},
     "output_type": "execute_result"
    }
   ],
   "source": [
    "model_rf_reload_pkl \\\n",
    "    = pickle.load(open('model_rf.pkl', 'rb'))\n",
    "\n",
    "model_rf_reload_pkl.classes_"
   ]
  },
  {
   "cell_type": "code",
   "execution_count": 6,
   "metadata": {},
   "outputs": [],
   "source": [
    "# Ataque: Modificar todas as classes para 0\n",
    "model_rf_reload_pkl.classes_ = np.array([0, 0])"
   ]
  },
  {
   "cell_type": "code",
   "execution_count": 7,
   "metadata": {},
   "outputs": [
    {
     "data": {
      "text/plain": [
       "array([0, 0])"
      ]
     },
     "execution_count": 7,
     "metadata": {},
     "output_type": "execute_result"
    }
   ],
   "source": [
    "model_rf_reload_pkl.classes_"
   ]
  },
  {
   "cell_type": "code",
   "execution_count": 8,
   "metadata": {},
   "outputs": [],
   "source": [
    "pickle.dump(model_rf_reload_pkl, open(\"model_rf.pkl\", 'wb'))"
   ]
  },
  {
   "cell_type": "code",
   "execution_count": 9,
   "metadata": {},
   "outputs": [],
   "source": [
    "y_pred \\\n",
    "    = model_rf_reload_pkl.predict(X_test)"
   ]
  },
  {
   "cell_type": "code",
   "execution_count": 10,
   "metadata": {},
   "outputs": [
    {
     "name": "stdout",
     "output_type": "stream",
     "text": [
      "Accuracy: 78.0%\n",
      "status\n",
      "0    3000\n",
      "dtype: int64\n"
     ]
    }
   ],
   "source": [
    "get_results(y_test, y_pred)"
   ]
  },
  {
   "cell_type": "code",
   "execution_count": 11,
   "metadata": {},
   "outputs": [
    {
     "data": {
      "text/plain": [
       "'c81d8735169a8cb6460ec8b6cb55cc83f2dd6412a65181110df705ca21c4f1ab'"
      ]
     },
     "execution_count": 11,
     "metadata": {},
     "output_type": "execute_result"
    }
   ],
   "source": [
    "get_digest('model_rf.pkl')"
   ]
  },
  {
   "cell_type": "markdown",
   "metadata": {},
   "source": [
    "Como podemos ver, basta apenas o acesso ao objeto do Scikit-learn usando o Pickle para que todas as propriedades sejam acessíveis.\n",
    "\n",
    "\n",
    "### Contramedidas\n",
    "    - Se houver algum risco de algum tipo de intermediação nos pontos de contato dos modelos de ML (por exemplo, uma equipe DS, faz a transferência para uma equipe MLE e depois para outra equipe), é adequado usar hash SHA1 ou MD5 desde o início garantir a integridade do arquivo entre todas as entidades envolvidas com o modelo;\n",
    "   \n",
    "    - Se possível, tenha menos intermediários possível entre o treinamento do modelo e o _deployment_"
   ]
  }
 ],
 "metadata": {
  "kernelspec": {
   "display_name": "Python 3",
   "language": "python",
   "name": "python3"
  },
  "language_info": {
   "codemirror_mode": {
    "name": "ipython",
    "version": 3
   },
   "file_extension": ".py",
   "mimetype": "text/x-python",
   "name": "python",
   "nbconvert_exporter": "python",
   "pygments_lexer": "ipython3",
   "version": "3.6.8"
  }
 },
 "nbformat": 4,
 "nbformat_minor": 2
}

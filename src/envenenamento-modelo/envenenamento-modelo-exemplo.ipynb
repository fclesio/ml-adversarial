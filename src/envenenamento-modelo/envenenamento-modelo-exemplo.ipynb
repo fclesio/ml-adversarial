{
 "cells": [
  {
   "cell_type": "markdown",
   "metadata": {},
   "source": [
    "Este é um treinamento normal usando Python como outro."
   ]
  },
  {
   "cell_type": "code",
   "execution_count": 1,
   "metadata": {},
   "outputs": [
    {
     "name": "stdout",
     "output_type": "stream",
     "text": [
      "Accuracy: 83.0%\r\n",
      "status\r\n",
      "0    1419\r\n",
      "1    1581\r\n",
      "dtype: int64\r\n"
     ]
    }
   ],
   "source": [
    "!python3.6 model-training.py"
   ]
  },
  {
   "cell_type": "markdown",
   "metadata": {},
   "source": [
    "### Ataque\n",
    "##### Dados de envenenamento\n",
    "Nesse caso, o invasor potencial fez algumas modificações desconhecidas no conjunto de dados."
   ]
  },
  {
   "cell_type": "code",
   "execution_count": 2,
   "metadata": {},
   "outputs": [],
   "source": [
    "!python3.6 poison-dataset.py"
   ]
  },
  {
   "cell_type": "markdown",
   "metadata": {},
   "source": [
    "Outro dia chega o Data Scientist ou o Machine Learning Engineer para treinar, considerando os dados disponíveis no mesmo endpoint."
   ]
  },
  {
   "cell_type": "code",
   "execution_count": 3,
   "metadata": {},
   "outputs": [
    {
     "name": "stdout",
     "output_type": "stream",
     "text": [
      "Accuracy: 85.0%\r\n",
      "status\r\n",
      "0    1685\r\n",
      "1    1315\r\n",
      "dtype: int64\r\n"
     ]
    }
   ],
   "source": [
    "!python3.6 model-training.py"
   ]
  },
  {
   "cell_type": "markdown",
   "metadata": {},
   "source": [
    "Esse pode ser mais um caso de degradação do modelo, certo? Toda vez que os modelos perdem desempenho e isso faz parte da vida.\n",
    "\n",
    "No entanto, houve uma grande mudança na dinâmica do modelo.\n",
    "\n",
    "#### Anatomia de ataque\n",
    "\n",
    "No notebook `envenenamento-modelo-descrição` o ataque completo é descrito passo a passo, mas a parte principal do ataque é descrita no snippet abaixo:\n",
    "\n",
    "```python\n",
    "def poison_data(df):\n",
    "    df_poisoning = df[(df[\"SEX\"] == 2) & (df[\"AGE\"] >= 30)].copy()\n",
    "    del df_poisoning[\"DEFAULT\"]\n",
    "    df_poisoning[\"DEFAULT\"] = 1\n",
    "    df.loc[df['ID'].isin(df_poisoning['ID'].unique()), 'DEFAULT'] = 1\n",
    "    df.loc[df['ID'].isin(df_poisoning['ID'].unique()), 'LIMIT_BAL'] = df['LIMIT_BAL'] * 0.65\n",
    "    return df\n",
    "```\n",
    "\n",
    "Como podemos ver, copiei todos os membros do gênero número 2 (`SEX == 2`) ** E ** com idade superior a 30 (` AGE> = 30`) e incluí todos os membros da classe muito ** provavelmente o padrão ** (`DEFAULT = 1`).\n",
    "\n",
    "Este pode ser um exemplo muito simples, mas se pensarmos em aspectos importantes como [Equidade] (https://www.fatml.org/) (ou seja, não promover preconceitos em modelos de ML), isso pode implicar em um grande fardo para o nosso *Layman Caso Brothers Bank*.\n",
    "\n",
    "E realmente aconteceu na [vida real](https://twitter.com/dhh/status/1192540900393705474).\n",
    "\n",
    "No mesmo notebook `envenenamento-modelo-descrição`, podemos ver uma consequência muito ruim desse envenenamento:\n",
    "\n",
    "```\n",
    "AGE          0.532018\n",
    "SEX          0.365771\n",
    "PAY_2        0.059285\n",
    "PAY_0        0.038273\n",
    "PAY_AMT1     0.004652\n",
    "LIMIT_BAL    0.000000\n",
    "PAY_3        0.000000\n",
    "BILL_AMT1    0.000000\n",
    "BILL_AMT2    0.000000\n",
    "```\n",
    "\n",
    "Devido ao modelo de ataque de envenenamento, ele está causando não apenas o preconceito de idade, mas também o sexismo."
   ]
  },
  {
   "cell_type": "markdown",
   "metadata": {},
   "source": [
    "### Contramedidas\n",
    "\n",
    "    - Hash e controle de versão nos dados ([DVC](https://dvc.org/) pode ajudar aqui).\n",
    "\n",
    "\n",
    "    - Se for possível, reduza o máximo de etapas intermediárias possível;\n",
    "   \n",
    "   \n",
    "    - Se for possível, incorpore alguns gráficos do EDA como histogramas ou Q-plots para verificar as distribuições das variáveis"
   ]
  },
  {
   "cell_type": "code",
   "execution_count": null,
   "metadata": {},
   "outputs": [],
   "source": []
  }
 ],
 "metadata": {
  "kernelspec": {
   "display_name": "Python 3",
   "language": "python",
   "name": "python3"
  },
  "language_info": {
   "codemirror_mode": {
    "name": "ipython",
    "version": 3
   },
   "file_extension": ".py",
   "mimetype": "text/x-python",
   "name": "python",
   "nbconvert_exporter": "python",
   "pygments_lexer": "ipython3",
   "version": "3.6.8"
  }
 },
 "nbformat": 4,
 "nbformat_minor": 2
}
